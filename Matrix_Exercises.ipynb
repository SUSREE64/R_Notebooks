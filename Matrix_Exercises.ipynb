{
 "cells": [
  {
   "cell_type": "markdown",
   "metadata": {},
   "source": [
    "# Matrix data type.\n",
    "Matrix is vector with a dimension attribute. The dimesion attribute itself is an integer vector that has the Rows and Columns information. Matrix always takes all elements of the same type. If forced with various data types as elements coercion converts all the elements to a same data type.  "
   ]
  },
  {
   "cell_type": "code",
   "execution_count": 21,
   "metadata": {
    "collapsed": false
   },
   "outputs": [
    {
     "name": "stdout",
     "output_type": "stream",
     "text": [
      "     [,1] [,2] [,3] [,4] [,5]\n",
      "[1,]    1    4    7   10   13\n",
      "[2,]    2    5    8   11   14\n",
      "[3,]    3    6    9   12   15\n"
     ]
    }
   ],
   "source": [
    "# Creating a matrix \n",
    "A = matrix(1:15, nrow = 3, ncol = 5)\n",
    "print(A)"
   ]
  },
  {
   "cell_type": "code",
   "execution_count": null,
   "metadata": {
    "collapsed": true
   },
   "outputs": [],
   "source": []
  },
  {
   "cell_type": "raw",
   "metadata": {},
   "source": []
  },
  {
   "cell_type": "markdown",
   "metadata": {},
   "source": [
    "# Matrices coercion"
   ]
  },
  {
   "cell_type": "code",
   "execution_count": 13,
   "metadata": {
    "collapsed": false
   },
   "outputs": [
    {
     "name": "stdout",
     "output_type": "stream",
     "text": [
      "     [,1] [,2] [,3]\n",
      "[1,]    0    0    0\n",
      "[2,]    0    0    0\n",
      "[3,]    0    0    0\n",
      "[4,]    0    0    0\n",
      "[5,]    0    0    0\n",
      "[1] \"numeric\"\n",
      "     [,1] [,2] [,3]  \n",
      "[1,] \"0\"  \"0\"  \"0\"   \n",
      "[2,] \"0\"  \"0\"  \"sree\"\n",
      "[3,] \"0\"  \"0\"  \"0\"   \n",
      "[4,] \"0\"  \"0\"  \"0\"   \n",
      "[5,] \"0\"  \"0\"  \"0\"   \n"
     ]
    }
   ],
   "source": [
    "# Can a matrix be inserted with a heterogenious elements? \n",
    "# First create matrix\n",
    "mat_A = matrix(0, nrow =5, ncol = 3)\n",
    "print(mat_A)\n",
    "# test to know the class type of an element in the matrix\n",
    "print(class(mat_A[2,3])) # it is numeric type.\n",
    "# Now try feeding a character here and see \n",
    "mat_A[2,3] <- 'sree'\n",
    "print(mat_A)\n",
    "# Great coercion works here and changes all the elements to \n",
    "#characters\n"
   ]
  },
  {
   "cell_type": "code",
   "execution_count": null,
   "metadata": {
    "collapsed": true
   },
   "outputs": [],
   "source": []
  }
 ],
 "metadata": {
  "anaconda-cloud": {},
  "kernelspec": {
   "display_name": "R [conda env:R essentials]",
   "language": "R",
   "name": "conda-env-R essentials-r"
  },
  "language_info": {
   "codemirror_mode": "r",
   "file_extension": ".r",
   "mimetype": "text/x-r-source",
   "name": "R",
   "pygments_lexer": "r",
   "version": "3.3.2"
  }
 },
 "nbformat": 4,
 "nbformat_minor": 1
}
