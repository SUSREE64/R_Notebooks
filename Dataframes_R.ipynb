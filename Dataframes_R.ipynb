{
 "cells": [
  {
   "cell_type": "markdown",
   "metadata": {},
   "source": [
    "# Dataframes\n",
    "A data frame has the variables of a data set as columns and the observations as rows. Unlike Matrices Dataframes can take dissmilar data types as elements."
   ]
  },
  {
   "cell_type": "code",
   "execution_count": 4,
   "metadata": {
    "collapsed": false
   },
   "outputs": [
    {
     "data": {
      "text/html": [
       "<table>\n",
       "<thead><tr><th scope=col>Names</th><th scope=col>Gender</th><th scope=col>Ages</th><th scope=col>City</th></tr></thead>\n",
       "<tbody>\n",
       "\t<tr><td>Sree     </td><td>Male     </td><td>53       </td><td>Hyderabad</td></tr>\n",
       "\t<tr><td>Devi     </td><td>Female   </td><td>50       </td><td>Hyderbad </td></tr>\n",
       "\t<tr><td>Praneetha</td><td>Female   </td><td>29       </td><td>Bangalore</td></tr>\n",
       "\t<tr><td>Lavanya  </td><td>Female   </td><td>27       </td><td>Newgercy </td></tr>\n",
       "\t<tr><td>Prabhu   </td><td>Male     </td><td>51       </td><td>Kurnool  </td></tr>\n",
       "\t<tr><td>Vani     </td><td>Female   </td><td>48       </td><td>Emmiganur</td></tr>\n",
       "\t<tr><td>Vaishnavi</td><td>Female   </td><td>14       </td><td>Kurnool  </td></tr>\n",
       "\t<tr><td>Nirmal   </td><td>Male     </td><td>19       </td><td>Kurnool  </td></tr>\n",
       "</tbody>\n",
       "</table>\n"
      ],
      "text/latex": [
       "\\begin{tabular}{r|llll}\n",
       " Names & Gender & Ages & City\\\\\n",
       "\\hline\n",
       "\t Sree      & Male      & 53        & Hyderabad\\\\\n",
       "\t Devi      & Female    & 50        & Hyderbad \\\\\n",
       "\t Praneetha & Female    & 29        & Bangalore\\\\\n",
       "\t Lavanya   & Female    & 27        & Newgercy \\\\\n",
       "\t Prabhu    & Male      & 51        & Kurnool  \\\\\n",
       "\t Vani      & Female    & 48        & Emmiganur\\\\\n",
       "\t Vaishnavi & Female    & 14        & Kurnool  \\\\\n",
       "\t Nirmal    & Male      & 19        & Kurnool  \\\\\n",
       "\\end{tabular}\n"
      ],
      "text/markdown": [
       "\n",
       "Names | Gender | Ages | City | \n",
       "|---|---|---|---|---|---|---|---|\n",
       "| Sree      | Male      | 53        | Hyderabad | \n",
       "| Devi      | Female    | 50        | Hyderbad  | \n",
       "| Praneetha | Female    | 29        | Bangalore | \n",
       "| Lavanya   | Female    | 27        | Newgercy  | \n",
       "| Prabhu    | Male      | 51        | Kurnool   | \n",
       "| Vani      | Female    | 48        | Emmiganur | \n",
       "| Vaishnavi | Female    | 14        | Kurnool   | \n",
       "| Nirmal    | Male      | 19        | Kurnool   | \n",
       "\n",
       "\n"
      ],
      "text/plain": [
       "  Names     Gender Ages City     \n",
       "1 Sree      Male   53   Hyderabad\n",
       "2 Devi      Female 50   Hyderbad \n",
       "3 Praneetha Female 29   Bangalore\n",
       "4 Lavanya   Female 27   Newgercy \n",
       "5 Prabhu    Male   51   Kurnool  \n",
       "6 Vani      Female 48   Emmiganur\n",
       "7 Vaishnavi Female 14   Kurnool  \n",
       "8 Nirmal    Male   19   Kurnool  "
      ]
     },
     "metadata": {},
     "output_type": "display_data"
    }
   ],
   "source": [
    "# create few vectors of dissimilar data\n",
    "Names <- c('Sree', 'Devi', 'Praneetha', 'Lavanya', 'Prabhu', 'Vani', 'Vaishnavi', 'Nirmal')\n",
    "Gender<- c(\"Male\", \"Female\", \"Female\", \"Female\",\"Male\", \"Female\", \"Female\", \"Male\")\n",
    "Ages <- c(53, 50, 29, 27, 51, 48, 14, 19)\n",
    "City <- c(\"Hyderabad\", 'Hyderbad', \"Bangalore\", \"Newgercy\", \"Kurnool\", \"Emmiganur\",\"Kurnool\", \"Kurnool\")\n",
    "# Combine all of these to form a data frame \n",
    "family_df <- data.frame(Names, Gender, Ages, City)\n",
    "family_df\n"
   ]
  },
  {
   "cell_type": "code",
   "execution_count": 20,
   "metadata": {
    "collapsed": false
   },
   "outputs": [
    {
     "data": {
      "text/html": [
       "<table>\n",
       "<thead><tr><th scope=col></th><th scope=col>Gender</th><th scope=col>Ages</th><th scope=col>City</th></tr></thead>\n",
       "<tbody>\n",
       "\t<tr><td>Sree     </td><td>Male     </td><td>53       </td><td>Hyderabad</td></tr>\n",
       "\t<tr><td>Devi     </td><td>Female   </td><td>50       </td><td>Hyderbad </td></tr>\n",
       "\t<tr><td>Praneetha</td><td>Female   </td><td>29       </td><td>Bangalore</td></tr>\n",
       "\t<tr><td>Lavanya  </td><td>Female   </td><td>27       </td><td>Newgercy </td></tr>\n",
       "\t<tr><td>Prabhu   </td><td>Male     </td><td>51       </td><td>Kurnool  </td></tr>\n",
       "\t<tr><td>Vani     </td><td>Female   </td><td>48       </td><td>Emmiganur</td></tr>\n",
       "\t<tr><td>Vaishnavi</td><td>Female   </td><td>14       </td><td>Kurnool  </td></tr>\n",
       "\t<tr><td>Nirmal   </td><td>Male     </td><td>19       </td><td>Kurnool  </td></tr>\n",
       "</tbody>\n",
       "</table>\n"
      ],
      "text/latex": [
       "\\begin{tabular}{llll}\n",
       "  & Gender & Ages & City\\\\\n",
       "\\hline\n",
       "\t Sree      & Male      & 53        & Hyderabad\\\\\n",
       "\t Devi      & Female    & 50        & Hyderbad \\\\\n",
       "\t Praneetha & Female    & 29        & Bangalore\\\\\n",
       "\t Lavanya   & Female    & 27        & Newgercy \\\\\n",
       "\t Prabhu    & Male      & 51        & Kurnool  \\\\\n",
       "\t Vani      & Female    & 48        & Emmiganur\\\\\n",
       "\t Vaishnavi & Female    & 14        & Kurnool  \\\\\n",
       "\t Nirmal    & Male      & 19        & Kurnool  \\\\\n",
       "\\end{tabular}\n"
      ],
      "text/markdown": [
       "\n",
       " | Gender | Ages | City | \n",
       "|---|---|---|---|---|---|---|---|\n",
       "| Sree      | Male      | 53        | Hyderabad | \n",
       "| Devi      | Female    | 50        | Hyderbad  | \n",
       "| Praneetha | Female    | 29        | Bangalore | \n",
       "| Lavanya   | Female    | 27        | Newgercy  | \n",
       "| Prabhu    | Male      | 51        | Kurnool   | \n",
       "| Vani      | Female    | 48        | Emmiganur | \n",
       "| Vaishnavi | Female    | 14        | Kurnool   | \n",
       "| Nirmal    | Male      | 19        | Kurnool   | \n",
       "\n",
       "\n"
      ],
      "text/plain": [
       "               Gender Ages City     \n",
       "[1,] Sree      Male   53   Hyderabad\n",
       "[2,] Devi      Female 50   Hyderbad \n",
       "[3,] Praneetha Female 29   Bangalore\n",
       "[4,] Lavanya   Female 27   Newgercy \n",
       "[5,] Prabhu    Male   51   Kurnool  \n",
       "[6,] Vani      Female 48   Emmiganur\n",
       "[7,] Vaishnavi Female 14   Kurnool  \n",
       "[8,] Nirmal    Male   19   Kurnool  "
      ]
     },
     "metadata": {},
     "output_type": "display_data"
    }
   ],
   "source": [
    "family_mat = matrix(Names, ncol = 1, nrow = 8)\n",
    "family_mat = cbind(family_mat , Gender,Ages,City)\n",
    "family_mat"
   ]
  },
  {
   "cell_type": "code",
   "execution_count": 27,
   "metadata": {
    "collapsed": false
   },
   "outputs": [
    {
     "data": {
      "text/html": [
       "<span style=white-space:pre-wrap>'The class of Age element in Matrix ---  character'</span>"
      ],
      "text/latex": [
       "'The class of Age element in Matrix ---  character'"
      ],
      "text/markdown": [
       "<span style=white-space:pre-wrap>'The class of Age element in Matrix ---  character'</span>"
      ],
      "text/plain": [
       "[1] \"The class of Age element in Matrix ---  character\""
      ]
     },
     "metadata": {},
     "output_type": "display_data"
    },
    {
     "data": {
      "text/html": [
       "<span style=white-space:pre-wrap>'The class of Age element in Matrix ---  numeric'</span>"
      ],
      "text/latex": [
       "'The class of Age element in Matrix ---  numeric'"
      ],
      "text/markdown": [
       "<span style=white-space:pre-wrap>'The class of Age element in Matrix ---  numeric'</span>"
      ],
      "text/plain": [
       "[1] \"The class of Age element in Matrix ---  numeric\""
      ]
     },
     "metadata": {},
     "output_type": "display_data"
    }
   ],
   "source": [
    "#Although both family_mat, family_df appear same, there is  a difference\n",
    "# let us look at the class of Ages elements in both the cases.\n",
    "paste(\"The class of Age element in Matrix --- \", class(family_mat[1,3]))\n",
    "paste(\"The class of Age element in Matrix --- \",class(family_df[1,3]))"
   ]
  },
  {
   "cell_type": "markdown",
   "metadata": {},
   "source": [
    "# \n",
    "Ages vector has numeric data in it. Now in the matrix is coerced to 'character' data. Matrix contains only one class type data in in. Where as the same thing remained as numeric in data frame. Data frame can take up dissimilar class data elements. "
   ]
  },
  {
   "cell_type": "markdown",
   "metadata": {},
   "source": [
    "# Structure of a data frame\n"
   ]
  },
  {
   "cell_type": "code",
   "execution_count": 28,
   "metadata": {
    "collapsed": false
   },
   "outputs": [
    {
     "name": "stdout",
     "output_type": "stream",
     "text": [
      "'data.frame':\t8 obs. of  4 variables:\n",
      " $ Names : Factor w/ 8 levels \"Devi\",\"Lavanya\",..: 6 1 5 2 4 8 7 3\n",
      " $ Gender: Factor w/ 2 levels \"Female\",\"Male\": 2 1 1 1 2 1 1 2\n",
      " $ Ages  : num  53 50 29 27 51 48 14 19\n",
      " $ City  : Factor w/ 6 levels \"Bangalore\",\"Emmiganur\",..: 3 4 1 6 5 2 5 5\n"
     ]
    }
   ],
   "source": [
    "str(family_df)"
   ]
  },
  {
   "cell_type": "markdown",
   "metadata": {},
   "source": [
    "# Selecting dataframe data (columnwise, Row wise)"
   ]
  },
  {
   "cell_type": "code",
   "execution_count": 49,
   "metadata": {
    "collapsed": false
   },
   "outputs": [
    {
     "data": {
      "text/html": [
       "<ol class=list-inline>\n",
       "\t<li>53</li>\n",
       "\t<li>50</li>\n",
       "\t<li>29</li>\n",
       "\t<li>27</li>\n",
       "\t<li>51</li>\n",
       "\t<li>48</li>\n",
       "\t<li>14</li>\n",
       "\t<li>19</li>\n",
       "</ol>\n"
      ],
      "text/latex": [
       "\\begin{enumerate*}\n",
       "\\item 53\n",
       "\\item 50\n",
       "\\item 29\n",
       "\\item 27\n",
       "\\item 51\n",
       "\\item 48\n",
       "\\item 14\n",
       "\\item 19\n",
       "\\end{enumerate*}\n"
      ],
      "text/markdown": [
       "1. 53\n",
       "2. 50\n",
       "3. 29\n",
       "4. 27\n",
       "5. 51\n",
       "6. 48\n",
       "7. 14\n",
       "8. 19\n",
       "\n",
       "\n"
      ],
      "text/plain": [
       "[1] 53 50 29 27 51 48 14 19"
      ]
     },
     "metadata": {},
     "output_type": "display_data"
    },
    {
     "data": {
      "text/html": [
       "<ol class=list-inline>\n",
       "\t<li>53</li>\n",
       "\t<li>50</li>\n",
       "\t<li>29</li>\n",
       "\t<li>27</li>\n",
       "\t<li>51</li>\n",
       "\t<li>48</li>\n",
       "\t<li>14</li>\n",
       "\t<li>19</li>\n",
       "</ol>\n"
      ],
      "text/latex": [
       "\\begin{enumerate*}\n",
       "\\item 53\n",
       "\\item 50\n",
       "\\item 29\n",
       "\\item 27\n",
       "\\item 51\n",
       "\\item 48\n",
       "\\item 14\n",
       "\\item 19\n",
       "\\end{enumerate*}\n"
      ],
      "text/markdown": [
       "1. 53\n",
       "2. 50\n",
       "3. 29\n",
       "4. 27\n",
       "5. 51\n",
       "6. 48\n",
       "7. 14\n",
       "8. 19\n",
       "\n",
       "\n"
      ],
      "text/plain": [
       "[1] 53 50 29 27 51 48 14 19"
      ]
     },
     "metadata": {},
     "output_type": "display_data"
    },
    {
     "data": {
      "text/html": [
       "<table>\n",
       "<thead><tr><th scope=col>Names</th><th scope=col>Gender</th><th scope=col>Ages</th><th scope=col>City</th></tr></thead>\n",
       "<tbody>\n",
       "\t<tr><td>Sree     </td><td>Male     </td><td>53       </td><td>Hyderabad</td></tr>\n",
       "</tbody>\n",
       "</table>\n"
      ],
      "text/latex": [
       "\\begin{tabular}{r|llll}\n",
       " Names & Gender & Ages & City\\\\\n",
       "\\hline\n",
       "\t Sree      & Male      & 53        & Hyderabad\\\\\n",
       "\\end{tabular}\n"
      ],
      "text/markdown": [
       "\n",
       "Names | Gender | Ages | City | \n",
       "|---|\n",
       "| Sree      | Male      | 53        | Hyderabad | \n",
       "\n",
       "\n"
      ],
      "text/plain": [
       "  Names Gender Ages City     \n",
       "1 Sree  Male   53   Hyderabad"
      ]
     },
     "metadata": {},
     "output_type": "display_data"
    }
   ],
   "source": [
    "#column selecton \n",
    "family_df[,3] # column 3 selected as a vector\n",
    "family_df$Ages # Same as above but with name\n",
    "# Row selection\n",
    "family_df[1,] # Row wise 1st Row\n"
   ]
  },
  {
   "cell_type": "markdown",
   "metadata": {},
   "source": [
    "# Selecting a subset with a condition"
   ]
  },
  {
   "cell_type": "code",
   "execution_count": 54,
   "metadata": {
    "collapsed": false
   },
   "outputs": [
    {
     "data": {
      "text/html": [
       "<table>\n",
       "<thead><tr><th scope=col>Names</th><th scope=col>Gender</th><th scope=col>Ages</th><th scope=col>City</th></tr></thead>\n",
       "<tbody>\n",
       "\t<tr><td>Sree     </td><td>Male     </td><td>53       </td><td>Hyderabad</td></tr>\n",
       "\t<tr><td>Devi     </td><td>Female   </td><td>50       </td><td>Hyderbad </td></tr>\n",
       "\t<tr><td>Praneetha</td><td>Female   </td><td>29       </td><td>Bangalore</td></tr>\n",
       "\t<tr><td>Lavanya  </td><td>Female   </td><td>27       </td><td>Newgercy </td></tr>\n",
       "\t<tr><td>Prabhu   </td><td>Male     </td><td>51       </td><td>Kurnool  </td></tr>\n",
       "\t<tr><td>Vani     </td><td>Female   </td><td>48       </td><td>Emmiganur</td></tr>\n",
       "</tbody>\n",
       "</table>\n"
      ],
      "text/latex": [
       "\\begin{tabular}{r|llll}\n",
       " Names & Gender & Ages & City\\\\\n",
       "\\hline\n",
       "\t Sree      & Male      & 53        & Hyderabad\\\\\n",
       "\t Devi      & Female    & 50        & Hyderbad \\\\\n",
       "\t Praneetha & Female    & 29        & Bangalore\\\\\n",
       "\t Lavanya   & Female    & 27        & Newgercy \\\\\n",
       "\t Prabhu    & Male      & 51        & Kurnool  \\\\\n",
       "\t Vani      & Female    & 48        & Emmiganur\\\\\n",
       "\\end{tabular}\n"
      ],
      "text/markdown": [
       "\n",
       "Names | Gender | Ages | City | \n",
       "|---|---|---|---|---|---|\n",
       "| Sree      | Male      | 53        | Hyderabad | \n",
       "| Devi      | Female    | 50        | Hyderbad  | \n",
       "| Praneetha | Female    | 29        | Bangalore | \n",
       "| Lavanya   | Female    | 27        | Newgercy  | \n",
       "| Prabhu    | Male      | 51        | Kurnool   | \n",
       "| Vani      | Female    | 48        | Emmiganur | \n",
       "\n",
       "\n"
      ],
      "text/plain": [
       "  Names     Gender Ages City     \n",
       "1 Sree      Male   53   Hyderabad\n",
       "2 Devi      Female 50   Hyderbad \n",
       "3 Praneetha Female 29   Bangalore\n",
       "4 Lavanya   Female 27   Newgercy \n",
       "5 Prabhu    Male   51   Kurnool  \n",
       "6 Vani      Female 48   Emmiganur"
      ]
     },
     "metadata": {},
     "output_type": "display_data"
    }
   ],
   "source": [
    "subset(family_df,subset = Ages>20)"
   ]
  },
  {
   "cell_type": "code",
   "execution_count": 67,
   "metadata": {
    "collapsed": false
   },
   "outputs": [
    {
     "data": {
      "text/html": [
       "<table>\n",
       "<thead><tr><th></th><th scope=col>Names</th><th scope=col>Gender</th><th scope=col>Ages</th><th scope=col>City</th></tr></thead>\n",
       "<tbody>\n",
       "\t<tr><th scope=row>1</th><td>Sree     </td><td>Male     </td><td>53       </td><td>Hyderabad</td></tr>\n",
       "\t<tr><th scope=row>5</th><td>Prabhu   </td><td>Male     </td><td>51       </td><td>Kurnool  </td></tr>\n",
       "\t<tr><th scope=row>8</th><td>Nirmal   </td><td>Male     </td><td>19       </td><td>Kurnool  </td></tr>\n",
       "</tbody>\n",
       "</table>\n"
      ],
      "text/latex": [
       "\\begin{tabular}{r|llll}\n",
       "  & Names & Gender & Ages & City\\\\\n",
       "\\hline\n",
       "\t1 & Sree      & Male      & 53        & Hyderabad\\\\\n",
       "\t5 & Prabhu    & Male      & 51        & Kurnool  \\\\\n",
       "\t8 & Nirmal    & Male      & 19        & Kurnool  \\\\\n",
       "\\end{tabular}\n"
      ],
      "text/markdown": [
       "\n",
       "| <!--/--> | Names | Gender | Ages | City | \n",
       "|---|---|---|\n",
       "| 1 | Sree      | Male      | 53        | Hyderabad | \n",
       "| 5 | Prabhu    | Male      | 51        | Kurnool   | \n",
       "| 8 | Nirmal    | Male      | 19        | Kurnool   | \n",
       "\n",
       "\n"
      ],
      "text/plain": [
       "  Names  Gender Ages City     \n",
       "1 Sree   Male   53   Hyderabad\n",
       "5 Prabhu Male   51   Kurnool  \n",
       "8 Nirmal Male   19   Kurnool  "
      ]
     },
     "metadata": {},
     "output_type": "display_data"
    }
   ],
   "source": [
    "subset(family_df, subset =(Gender == 'Male')) # Note == double logical expression "
   ]
  },
  {
   "cell_type": "markdown",
   "metadata": {},
   "source": [
    "# order() function on a vector for sorting the same"
   ]
  },
  {
   "cell_type": "code",
   "execution_count": 69,
   "metadata": {
    "collapsed": false
   },
   "outputs": [
    {
     "data": {
      "text/html": [
       "<ol class=list-inline>\n",
       "\t<li>2</li>\n",
       "\t<li>201</li>\n",
       "\t<li>1</li>\n",
       "\t<li>5</li>\n",
       "\t<li>90</li>\n",
       "\t<li>33</li>\n",
       "</ol>\n"
      ],
      "text/latex": [
       "\\begin{enumerate*}\n",
       "\\item 2\n",
       "\\item 201\n",
       "\\item 1\n",
       "\\item 5\n",
       "\\item 90\n",
       "\\item 33\n",
       "\\end{enumerate*}\n"
      ],
      "text/markdown": [
       "1. 2\n",
       "2. 201\n",
       "3. 1\n",
       "4. 5\n",
       "5. 90\n",
       "6. 33\n",
       "\n",
       "\n"
      ],
      "text/plain": [
       "[1]   2 201   1   5  90  33"
      ]
     },
     "metadata": {},
     "output_type": "display_data"
    }
   ],
   "source": [
    "# order() function returns a ranked position of the each element of the vector\n",
    "A = c(2,201, 1, 5, 90, 33)\n",
    "A"
   ]
  },
  {
   "cell_type": "code",
   "execution_count": 70,
   "metadata": {
    "collapsed": false
   },
   "outputs": [
    {
     "data": {
      "text/html": [
       "<ol class=list-inline>\n",
       "\t<li>3</li>\n",
       "\t<li>1</li>\n",
       "\t<li>4</li>\n",
       "\t<li>6</li>\n",
       "\t<li>5</li>\n",
       "\t<li>2</li>\n",
       "</ol>\n"
      ],
      "text/latex": [
       "\\begin{enumerate*}\n",
       "\\item 3\n",
       "\\item 1\n",
       "\\item 4\n",
       "\\item 6\n",
       "\\item 5\n",
       "\\item 2\n",
       "\\end{enumerate*}\n"
      ],
      "text/markdown": [
       "1. 3\n",
       "2. 1\n",
       "3. 4\n",
       "4. 6\n",
       "5. 5\n",
       "6. 2\n",
       "\n",
       "\n"
      ],
      "text/plain": [
       "[1] 3 1 4 6 5 2"
      ]
     },
     "metadata": {},
     "output_type": "display_data"
    }
   ],
   "source": [
    "order(A)# This gives a vector from 1 to n as per the order of the A"
   ]
  },
  {
   "cell_type": "markdown",
   "metadata": {},
   "source": [
    "# Rearranging the dataframe in the Ages order."
   ]
  },
  {
   "cell_type": "code",
   "execution_count": 93,
   "metadata": {
    "collapsed": false
   },
   "outputs": [],
   "source": [
    "ages_sorted = order(Ages) # Get the ranking of the ages "
   ]
  },
  {
   "cell_type": "code",
   "execution_count": 94,
   "metadata": {
    "collapsed": false
   },
   "outputs": [
    {
     "data": {
      "text/html": [
       "<ol class=list-inline>\n",
       "\t<li>7</li>\n",
       "\t<li>8</li>\n",
       "\t<li>4</li>\n",
       "\t<li>3</li>\n",
       "\t<li>6</li>\n",
       "\t<li>2</li>\n",
       "\t<li>5</li>\n",
       "\t<li>1</li>\n",
       "</ol>\n"
      ],
      "text/latex": [
       "\\begin{enumerate*}\n",
       "\\item 7\n",
       "\\item 8\n",
       "\\item 4\n",
       "\\item 3\n",
       "\\item 6\n",
       "\\item 2\n",
       "\\item 5\n",
       "\\item 1\n",
       "\\end{enumerate*}\n"
      ],
      "text/markdown": [
       "1. 7\n",
       "2. 8\n",
       "3. 4\n",
       "4. 3\n",
       "5. 6\n",
       "6. 2\n",
       "7. 5\n",
       "8. 1\n",
       "\n",
       "\n"
      ],
      "text/plain": [
       "[1] 7 8 4 3 6 2 5 1"
      ]
     },
     "metadata": {},
     "output_type": "display_data"
    }
   ],
   "source": [
    "ages_sorted # Observe the 1 to 7 ranking based on the age here. "
   ]
  },
  {
   "cell_type": "code",
   "execution_count": 95,
   "metadata": {
    "collapsed": false
   },
   "outputs": [
    {
     "data": {
      "text/html": [
       "<table>\n",
       "<thead><tr><th></th><th scope=col>Names</th><th scope=col>Gender</th><th scope=col>Ages</th><th scope=col>City</th></tr></thead>\n",
       "<tbody>\n",
       "\t<tr><th scope=row>7</th><td>Vaishnavi</td><td>Female   </td><td>14       </td><td>Kurnool  </td></tr>\n",
       "\t<tr><th scope=row>8</th><td>Nirmal   </td><td>Male     </td><td>19       </td><td>Kurnool  </td></tr>\n",
       "\t<tr><th scope=row>4</th><td>Lavanya  </td><td>Female   </td><td>27       </td><td>Newgercy </td></tr>\n",
       "\t<tr><th scope=row>3</th><td>Praneetha</td><td>Female   </td><td>29       </td><td>Bangalore</td></tr>\n",
       "\t<tr><th scope=row>6</th><td>Vani     </td><td>Female   </td><td>48       </td><td>Emmiganur</td></tr>\n",
       "\t<tr><th scope=row>2</th><td>Devi     </td><td>Female   </td><td>50       </td><td>Hyderbad </td></tr>\n",
       "\t<tr><th scope=row>5</th><td>Prabhu   </td><td>Male     </td><td>51       </td><td>Kurnool  </td></tr>\n",
       "\t<tr><th scope=row>1</th><td>Sree     </td><td>Male     </td><td>53       </td><td>Hyderabad</td></tr>\n",
       "</tbody>\n",
       "</table>\n"
      ],
      "text/latex": [
       "\\begin{tabular}{r|llll}\n",
       "  & Names & Gender & Ages & City\\\\\n",
       "\\hline\n",
       "\t7 & Vaishnavi & Female    & 14        & Kurnool  \\\\\n",
       "\t8 & Nirmal    & Male      & 19        & Kurnool  \\\\\n",
       "\t4 & Lavanya   & Female    & 27        & Newgercy \\\\\n",
       "\t3 & Praneetha & Female    & 29        & Bangalore\\\\\n",
       "\t6 & Vani      & Female    & 48        & Emmiganur\\\\\n",
       "\t2 & Devi      & Female    & 50        & Hyderbad \\\\\n",
       "\t5 & Prabhu    & Male      & 51        & Kurnool  \\\\\n",
       "\t1 & Sree      & Male      & 53        & Hyderabad\\\\\n",
       "\\end{tabular}\n"
      ],
      "text/markdown": [
       "\n",
       "| <!--/--> | Names | Gender | Ages | City | \n",
       "|---|---|---|---|---|---|---|---|\n",
       "| 7 | Vaishnavi | Female    | 14        | Kurnool   | \n",
       "| 8 | Nirmal    | Male      | 19        | Kurnool   | \n",
       "| 4 | Lavanya   | Female    | 27        | Newgercy  | \n",
       "| 3 | Praneetha | Female    | 29        | Bangalore | \n",
       "| 6 | Vani      | Female    | 48        | Emmiganur | \n",
       "| 2 | Devi      | Female    | 50        | Hyderbad  | \n",
       "| 5 | Prabhu    | Male      | 51        | Kurnool   | \n",
       "| 1 | Sree      | Male      | 53        | Hyderabad | \n",
       "\n",
       "\n"
      ],
      "text/plain": [
       "  Names     Gender Ages City     \n",
       "7 Vaishnavi Female 14   Kurnool  \n",
       "8 Nirmal    Male   19   Kurnool  \n",
       "4 Lavanya   Female 27   Newgercy \n",
       "3 Praneetha Female 29   Bangalore\n",
       "6 Vani      Female 48   Emmiganur\n",
       "2 Devi      Female 50   Hyderbad \n",
       "5 Prabhu    Male   51   Kurnool  \n",
       "1 Sree      Male   53   Hyderabad"
      ]
     },
     "metadata": {},
     "output_type": "display_data"
    }
   ],
   "source": [
    "# now sort the family_df as per the ages\n",
    "family_df[ages_sorted,] #whole data  frame gets sorted as per the ranks"
   ]
  },
  {
   "cell_type": "code",
   "execution_count": null,
   "metadata": {
    "collapsed": true
   },
   "outputs": [],
   "source": []
  }
 ],
 "metadata": {
  "kernelspec": {
   "display_name": "R [conda env:R essentials]",
   "language": "R",
   "name": "conda-env-R essentials-r"
  },
  "language_info": {
   "codemirror_mode": "r",
   "file_extension": ".r",
   "mimetype": "text/x-r-source",
   "name": "R",
   "pygments_lexer": "r",
   "version": "3.3.2"
  }
 },
 "nbformat": 4,
 "nbformat_minor": 1
}
